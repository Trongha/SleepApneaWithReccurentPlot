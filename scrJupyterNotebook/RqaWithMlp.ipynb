{
 "cells": [
  {
   "cell_type": "code",
   "execution_count": 1,
   "metadata": {},
   "outputs": [
    {
     "name": "stdout",
     "output_type": "stream",
     "text": [
      "train:  (965165, 12)\n",
      "label:  (965165,)\n"
     ]
    }
   ],
   "source": [
    "import numpy as np\n",
    "import config as config\n",
    "\n",
    "fileNormal = config.FOLDER_SAVE_RQA + 'normalData.npy'\n",
    "fileApnea = config.FOLDER_SAVE_RQA + 'apneaData.npy'\n",
    "\n",
    "rqaNormal = np.load(fileNormal)\n",
    "rqaApnea = np.load(fileApnea)\n",
    "\n",
    "numberOfNormal = rqaNormal.shape[0]\n",
    "numberOfApnea = rqaApnea.shape[0]\n",
    "\n",
    "numOfNormalTrain = int(numberOfNormal * 2 / 3)\n",
    "numOfApneaTrain = int(numberOfApnea * 2 / 3)\n",
    "\n",
    "rqaTrain = np.append(rqaNormal[0:numOfNormalTrain], rqaApnea[0:numOfApneaTrain], axis=0)\n",
    "labelTrain = [config.NORMAL_LABEL] * numOfNormalTrain + [config.APNEA_LABEL] * numOfApneaTrain\n",
    "labelTrain = np.array(labelTrain)\n",
    "rqaTest = np.append(rqaNormal[numOfNormalTrain:], rqaApnea[numOfApneaTrain:], axis=0)\n",
    "labelTest = [config.NORMAL_LABEL] * (numberOfNormal - numOfNormalTrain) \\\n",
    "            + [config.APNEA_LABEL] * (numberOfApnea - numOfApneaTrain)\n",
    "labelTest = np.array(labelTest)\n",
    "print('train: ', rqaTrain.shape)\n",
    "print('label: ', labelTrain.shape)"
   ]
  },
  {
   "cell_type": "code",
   "execution_count": 2,
   "metadata": {
    "pycharm": {
     "name": "#%%\n"
    }
   },
   "outputs": [
    {
     "name": "stdout",
     "output_type": "stream",
     "text": [
      "MLPClassifier(activation='tanh', hidden_layer_sizes=(12, 50, 2), max_iter=500,\n",
      "              random_state=1, solver='sgd', tol=1e-09)\n",
      "done\n"
     ]
    }
   ],
   "source": [
    "from sklearn.neural_network import MLPClassifier\n",
    "clf = MLPClassifier(activation='tanh', hidden_layer_sizes=(12, 50, 2), max_iter=500, alpha=0.0001,\n",
    "                    solver='sgd', random_state=1, tol=0.000000001)\n",
    "\n",
    "print(clf)\n",
    "clf.fit(rqaTrain, labelTrain)\n",
    "print('done')\n",
    "\n"
   ]
  },
  {
   "cell_type": "code",
   "execution_count": 3,
   "outputs": [
    {
     "name": "stdout",
     "output_type": "stream",
     "text": [
      "0.6940843459377021\n"
     ]
    }
   ],
   "source": [
    "from sklearn.metrics import accuracy_score\n",
    "pre = clf.predict(rqaTest)\n",
    "test = accuracy_score(labelTest, pre)\n",
    "print(test)\n"
   ],
   "metadata": {
    "collapsed": false,
    "pycharm": {
     "name": "#%%\n"
    }
   }
  }
 ],
 "metadata": {
  "kernelspec": {
   "display_name": "Python 3",
   "language": "python",
   "name": "python3"
  },
  "language_info": {
   "codemirror_mode": {
    "name": "ipython",
    "version": 3
   },
   "file_extension": ".py",
   "mimetype": "text/x-python",
   "name": "python",
   "nbconvert_exporter": "python",
   "pygments_lexer": "ipython3",
   "version": "3.7.0"
  }
 },
 "nbformat": 4,
 "nbformat_minor": 1
}
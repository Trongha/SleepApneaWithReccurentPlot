{
 "cells": [
  {
   "cell_type": "code",
   "execution_count": 10,
   "metadata": {},
   "outputs": [
    {
     "ename": "SyntaxError",
     "evalue": "invalid syntax (<ipython-input-10-d69b86a9b08f>, line 2)",
     "output_type": "error",
     "traceback": [
      "\u001B[1;36m  File \u001B[1;32m\"<ipython-input-10-d69b86a9b08f>\"\u001B[1;36m, line \u001B[1;32m2\u001B[0m\n\u001B[1;33m    import ./config.py as config\u001B[0m\n\u001B[1;37m           ^\u001B[0m\n\u001B[1;31mSyntaxError\u001B[0m\u001B[1;31m:\u001B[0m invalid syntax\n"
     ]
    }
   ],
   "source": [
    "# from src import config as config\n",
    "#\n",
    "# fileNormal = config.FOLDER_SAVE_RQA + 'normalData.npy'\n",
    "# # fileApnea = config.FOLDER_SAVE_RQA + 'apneaData.npy'\n",
    "#\n",
    "# rqaNormal = np.load(fileNormal)\n",
    "# rqaApnea = np.load(fileApnea)\n",
    "#\n",
    "# numberOfNormal = rqaNormal.shape[0]\n",
    "# numberOfApnea = rqaApnea.shape[0]\n",
    "#\n",
    "# numOfNormalTrain = int(numberOfNormal * 2 / 3)\n",
    "# numOfApneaTrain = int(numberOfApnea * 2 / 3)\n",
    "#\n",
    "# rqaTrain = np.append(rqaNormal[0:numOfNormalTrain], rqaApnea[0:numOfApneaTrain], axis=0)\n",
    "# labelTrain = [config.NORMAL_LABEL] * numOfNormalTrain + [config.APNEA_LABEL] * numOfApneaTrain\n",
    "# rqaTest = np.append(rqaNormal[numOfNormalTrain:], rqaApnea[numOfApneaTrain:], axis=0)\n",
    "# labelTest = [config.NORMAL_LABEL] * (numberOfNormal - numOfNormalTrain) \\\n",
    "#             + [config.APNEA_LABEL] * (numberOfApnea - numOfApneaTrain)"
   ]
  },
  {
   "cell_type": "code",
   "execution_count": null,
   "metadata": {
    "pycharm": {
     "name": "#%%\n"
    }
   },
   "outputs": [],
   "source": [
    "# from sklearn.neural_network import MLPClassifier\n",
    "# clf = MLPClassifier(activation='tanh', hidden_layer_sizes=(12, 50, 2), max_iter=500, alpha=0.0001,\n",
    "#                     solver='sgd', random_state=1, tol=0.000000001)\n",
    "#\n",
    "# print(clf)\n",
    "# clf.fit(rqaTrain, labelTrain)\n",
    "\n"
   ]
  }
 ],
 "metadata": {
  "kernelspec": {
   "display_name": "Python 3",
   "language": "python",
   "name": "python3"
  },
  "language_info": {
   "codemirror_mode": {
    "name": "ipython",
    "version": 3
   },
   "file_extension": ".py",
   "mimetype": "text/x-python",
   "name": "python",
   "nbconvert_exporter": "python",
   "pygments_lexer": "ipython3",
   "version": "3.7.6"
  }
 },
 "nbformat": 4,
 "nbformat_minor": 1
}
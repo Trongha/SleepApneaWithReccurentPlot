{
 "cells": [
  {
   "cell_type": "code",
   "execution_count": 1,
   "metadata": {
    "collapsed": true
   },
   "outputs": [
    {
     "name": "stdout",
     "output_type": "stream",
     "text": [
      "done import\n"
     ]
    }
   ],
   "source": [
    "import numpy as np\n",
    "from src import config\n",
    "from src import MyUtil as myUtil\n",
    "print('done import')"
   ]
  },
  {
   "cell_type": "code",
   "execution_count": 3,
   "outputs": [
    {
     "name": "stdout",
     "output_type": "stream",
     "text": [
      "done load data\n"
     ]
    }
   ],
   "source": [
    "\n",
    "recordNames = config.NAME_OF_RECORD\n",
    "numRecord = len(recordNames)\n",
    "numTrain = config.NUMBER_OF_TRAIN_RECORD\n",
    "trainRqa = []\n",
    "trainLabel = []\n",
    "\n",
    "# for iRecord in range(0, numTrain):\n",
    "for iRecord in range(10, numRecord):\n",
    "    rqa, label, _ = myUtil.loadRqa(recordNames[iRecord], 'train')\n",
    "    trainRqa = np.append(trainRqa, rqa, axis=0) if len(trainRqa) > 0 else rqa\n",
    "    trainLabel = np.append(trainLabel, label, axis=0) if len(trainLabel) > 0 else label\n",
    "\n",
    "testRqa = []\n",
    "testLabel = []\n",
    "for iRecord in range(0, 10):\n",
    "    rqa, label, _ = myUtil.loadRqa(recordNames[iRecord], 'test')\n",
    "    testRqa = np.append(testRqa, rqa, axis=0) if len(testRqa) > 0 else rqa\n",
    "    testLabel = np.append(testLabel, label, axis=0) if len(testLabel) > 0 else label\n",
    "print('done load data')\n"
   ],
   "metadata": {
    "collapsed": false,
    "pycharm": {
     "name": "#%%\n"
    }
   }
  },
  {
   "cell_type": "code",
   "execution_count": 4,
   "outputs": [
    {
     "name": "stdout",
     "output_type": "stream",
     "text": [
      "trainRqa:  (15443, 9)\n",
      "trainLabel:  (15443,)\n",
      "testRqa:  (4407, 9)\n",
      "testLabel:  (4407,)\n",
      "trainLabel unique:  {0: 11013, 1: 4430}\n",
      "testLabel unique:  {0: 1722, 1: 2685}\n"
     ]
    }
   ],
   "source": [
    "print('trainRqa: ', trainRqa.shape)\n",
    "# print(trainRqa[-10:])\n",
    "print('trainLabel: ', trainLabel.shape)\n",
    "print('testRqa: ', testRqa.shape)\n",
    "# print(testRqa[-10:])\n",
    "print('testLabel: ', testLabel.shape)\n",
    "\n",
    "unique, count = np.unique(trainLabel, return_counts=True)\n",
    "print('trainLabel unique: ', dict(zip(unique, count)))\n",
    "unique, count = np.unique(testLabel, return_counts=True)\n",
    "print('testLabel unique: ', dict(zip(unique, count)))"
   ],
   "metadata": {
    "collapsed": false,
    "pycharm": {
     "name": "#%%\n"
    }
   }
  },
  {
   "cell_type": "code",
   "execution_count": 4,
   "outputs": [],
   "source": [],
   "metadata": {
    "collapsed": false,
    "pycharm": {
     "name": "#%%\n"
    }
   }
  },
  {
   "cell_type": "code",
   "execution_count": 6,
   "outputs": [
    {
     "name": "stdout",
     "output_type": "stream",
     "text": [
      "done fit\n"
     ]
    }
   ],
   "source": [
    "from sklearn.ensemble import RandomForestClassifier\n",
    "from sklearn.datasets import make_classification\n",
    "# X, y = make_classification(n_samples=len(trainRqa), n_features=2,\n",
    "#                            n_informative=2, n_redundant=0,\n",
    "#                            random_state=0, shuffle=False)\n",
    "clf = RandomForestClassifier(max_depth=6, n_estimators=100)\n",
    "# clf = RandomForestClassifier(max_depth=6, n_estimators=100)\n",
    "# clf = RandomForestClassifier()\n",
    "clf.fit(trainRqa, trainLabel)\n",
    "\n",
    "print('done fit')"
   ],
   "metadata": {
    "collapsed": false,
    "pycharm": {
     "name": "#%%\n"
    }
   }
  },
  {
   "cell_type": "code",
   "execution_count": 25,
   "outputs": [
    {
     "name": "stdout",
     "output_type": "stream",
     "text": [
      "100%|██████████| 1/1 [00:03<00:00,  3.44s/trial, best loss: 0.17157656199417293]\n",
      "100%|██████████| 2/2 [00:03<00:00,  1.67s/trial, best loss: 0.16833926837164126]\n",
      "100%|██████████| 3/3 [00:03<00:00,  1.13s/trial, best loss: 0.16833926837164126]\n",
      "100%|██████████| 4/4 [00:03<00:00,  1.09trial/s, best loss: 0.16833926837164126]\n",
      "100%|██████████| 5/5 [00:03<00:00,  1.51trial/s, best loss: 0.16736808028488181]\n",
      "100%|██████████| 6/6 [00:03<00:00,  1.83trial/s, best loss: 0.16736808028488181]\n",
      "100%|██████████| 7/7 [00:03<00:00,  2.12trial/s, best loss: 0.16574943347361604]\n",
      "100%|██████████| 8/8 [00:04<00:00,  1.78trial/s, best loss: 0.16574943347361604]\n",
      "100%|██████████| 9/9 [00:03<00:00,  2.73trial/s, best loss: 0.16574943347361604]\n",
      "100%|██████████| 10/10 [00:03<00:00,  2.75trial/s, best loss: 0.16574943347361604]\n",
      "{'learner': RandomForestClassifier(), 'preprocs': (StandardScaler(),), 'ex_preprocs': ()}\n",
      "param:  {'bootstrap': True, 'ccp_alpha': 0.0, 'class_weight': None, 'criterion': 'gini', 'max_depth': None, 'max_features': 'auto', 'max_leaf_nodes': None, 'max_samples': None, 'min_impurity_decrease': 0.0, 'min_impurity_split': None, 'min_samples_leaf': 1, 'min_samples_split': 2, 'min_weight_fraction_leaf': 0.0, 'n_estimators': 100, 'n_jobs': None, 'oob_score': False, 'random_state': None, 'verbose': 0, 'warm_start': False}\n"
     ]
    }
   ],
   "source": [
    "from hpsklearn import HyperoptEstimator, extra_trees\n",
    "from hyperopt import tpe\n",
    "\n",
    "estim = HyperoptEstimator(classifier=clf,\n",
    "                          algo=tpe.suggest,\n",
    "                          max_evals=10,\n",
    "                          trial_timeout=300)\n",
    "estim.fit(trainRqa, trainLabel)\n",
    "print(estim.best_model())\n",
    "\n",
    "\n",
    "print('param: ', clf.get_params())"
   ],
   "metadata": {
    "collapsed": false,
    "pycharm": {
     "name": "#%%\n"
    }
   }
  },
  {
   "cell_type": "code",
   "execution_count": 7,
   "outputs": [
    {
     "name": "stdout",
     "output_type": "stream",
     "text": [
      "pre:  [1 1 1 ... 0 0 0]\n",
      "0.7227138643067846\n",
      "recall:  0.5929236499068902\n",
      "percision:  0.9250435793143521\n",
      "confusion_matrix: \n",
      " [[1593  129]\n",
      " [1093 1592]]\n",
      "done Test\n"
     ]
    }
   ],
   "source": [
    "\n",
    "from sklearn.metrics import accuracy_score, recall_score, precision_score, confusion_matrix\n",
    "\n",
    "pre = clf.predict(testRqa)\n",
    "print('pre: ', pre)\n",
    "test = accuracy_score(testLabel, pre)\n",
    "print(test)\n",
    "\n",
    "print('recall: ', recall_score(testLabel, pre))\n",
    "print('percision: ', precision_score(testLabel, pre))\n",
    "print('confusion_matrix: \\n', confusion_matrix(testLabel, pre))\n",
    "print('done Test')\n"
   ],
   "metadata": {
    "collapsed": false,
    "pycharm": {
     "name": "#%%\n"
    }
   }
  },
  {
   "cell_type": "code",
   "execution_count": 11,
   "outputs": [],
   "source": [],
   "metadata": {
    "collapsed": false,
    "pycharm": {
     "name": "#%%\n"
    }
   }
  },
  {
   "cell_type": "code",
   "execution_count": 12,
   "outputs": [
    {
     "name": "stdout",
     "output_type": "stream",
     "text": [
      "100%|██████████| 1/1 [00:02<00:00,  2.39s/trial, best loss: 0.16542570411136293]\n",
      "100%|██████████| 2/2 [00:02<00:00,  1.08s/trial, best loss: 0.1628358692133377]\n",
      "100%|██████████| 3/3 [00:02<00:00,  1.15trial/s, best loss: 0.15797992877954026]\n",
      "100%|██████████| 4/4 [00:02<00:00,  1.82trial/s, best loss: 0.15797992877954026]\n",
      "100%|██████████| 5/5 [00:02<00:00,  2.21trial/s, best loss: 0.15797992877954026]\n",
      "100%|██████████| 6/6 [00:02<00:00,  2.47trial/s, best loss: 0.15571382324376826]\n",
      "100%|██████████| 7/7 [00:02<00:00,  2.93trial/s, best loss: 0.15571382324376826]\n",
      "100%|██████████| 8/8 [00:02<00:00,  2.90trial/s, best loss: 0.15571382324376826]\n",
      "100%|██████████| 9/9 [00:02<00:00,  3.27trial/s, best loss: 0.15571382324376826]\n",
      "100%|██████████| 10/10 [00:02<00:00,  4.16trial/s, best loss: 0.1544189057947556]\n"
     ]
    }
   ],
   "source": [],
   "metadata": {
    "collapsed": false,
    "pycharm": {
     "name": "#%%\n"
    }
   }
  },
  {
   "cell_type": "code",
   "execution_count": 13,
   "outputs": [
    {
     "name": "stdout",
     "output_type": "stream",
     "text": [
      "{'learner': RandomForestClassifier(max_depth=6), 'preprocs': (Normalizer(),), 'ex_preprocs': ()}\n"
     ]
    }
   ],
   "source": [],
   "metadata": {
    "collapsed": false,
    "pycharm": {
     "name": "#%%\n"
    }
   }
  },
  {
   "cell_type": "code",
   "execution_count": 11,
   "outputs": [
    {
     "name": "stdout",
     "output_type": "stream",
     "text": [
      "0.7258906285454958\n",
      "{'learner': RandomForestClassifier(max_depth=6), 'preprocs': (), 'ex_preprocs': ()}\n"
     ]
    },
    {
     "ename": "AttributeError",
     "evalue": "'dict' object has no attribute 'predict'",
     "output_type": "error",
     "traceback": [
      "\u001B[1;31m---------------------------------------------------------------------------\u001B[0m",
      "\u001B[1;31mAttributeError\u001B[0m                            Traceback (most recent call last)",
      "\u001B[1;32m<ipython-input-11-40efed1c2b0d>\u001B[0m in \u001B[0;36m<module>\u001B[1;34m\u001B[0m\n\u001B[0;32m      6\u001B[0m \u001B[1;32mfrom\u001B[0m \u001B[0msklearn\u001B[0m\u001B[1;33m.\u001B[0m\u001B[0mmetrics\u001B[0m \u001B[1;32mimport\u001B[0m \u001B[0maccuracy_score\u001B[0m\u001B[1;33m,\u001B[0m \u001B[0mrecall_score\u001B[0m\u001B[1;33m,\u001B[0m \u001B[0mprecision_score\u001B[0m\u001B[1;33m,\u001B[0m \u001B[0mconfusion_matrix\u001B[0m\u001B[1;33m\u001B[0m\u001B[0m\n\u001B[0;32m      7\u001B[0m \u001B[1;33m\u001B[0m\u001B[0m\n\u001B[1;32m----> 8\u001B[1;33m \u001B[0mpre\u001B[0m \u001B[1;33m=\u001B[0m \u001B[0mclf1\u001B[0m\u001B[1;33m.\u001B[0m\u001B[0mpredict\u001B[0m\u001B[1;33m(\u001B[0m\u001B[0mtestRqa\u001B[0m\u001B[1;33m)\u001B[0m\u001B[1;33m\u001B[0m\u001B[0m\n\u001B[0m\u001B[0;32m      9\u001B[0m \u001B[0mprint\u001B[0m\u001B[1;33m(\u001B[0m\u001B[1;34m'pre: '\u001B[0m\u001B[1;33m,\u001B[0m \u001B[0mpre\u001B[0m\u001B[1;33m)\u001B[0m\u001B[1;33m\u001B[0m\u001B[0m\n\u001B[0;32m     10\u001B[0m \u001B[0mtest\u001B[0m \u001B[1;33m=\u001B[0m \u001B[0maccuracy_score\u001B[0m\u001B[1;33m(\u001B[0m\u001B[0mtestLabel\u001B[0m\u001B[1;33m,\u001B[0m \u001B[0mpre\u001B[0m\u001B[1;33m)\u001B[0m\u001B[1;33m\u001B[0m\u001B[0m\n",
      "\u001B[1;31mAttributeError\u001B[0m: 'dict' object has no attribute 'predict'"
     ]
    }
   ],
   "source": [
    "print(estim.score(testRqa, testLabel))\n",
    "# 0.962785714286\n",
    "\n",
    "print(estim.best_model())\n",
    "clf1 = estim.best_model()\n",
    "from sklearn.metrics import accuracy_score, recall_score, precision_score, confusion_matrix\n",
    "\n",
    "pre = clf1.predict(testRqa)\n",
    "print('pre: ', pre)\n",
    "test = accuracy_score(testLabel, pre)\n",
    "print(test)\n",
    "\n",
    "print('recall: ', recall_score(testLabel, pre))\n",
    "print('percision: ', precision_score(testLabel, pre))\n",
    "print('confusion_matrix: \\n', confusion_matrix(testLabel, pre))\n",
    "print('done Test')\n",
    "print('done fit')\n",
    "\n"
   ],
   "metadata": {
    "collapsed": false,
    "pycharm": {
     "name": "#%%\n"
    }
   }
  }
 ],
 "metadata": {
  "kernelspec": {
   "display_name": "Python 3",
   "language": "python",
   "name": "python3"
  },
  "language_info": {
   "codemirror_mode": {
    "name": "ipython",
    "version": 2
   },
   "file_extension": ".py",
   "mimetype": "text/x-python",
   "name": "python",
   "nbconvert_exporter": "python",
   "pygments_lexer": "ipython2",
   "version": "2.7.6"
  }
 },
 "nbformat": 4,
 "nbformat_minor": 0
}
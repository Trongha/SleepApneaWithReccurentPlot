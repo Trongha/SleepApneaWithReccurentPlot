{
 "cells": [
  {
   "cell_type": "code",
   "execution_count": 5,
   "metadata": {
    "collapsed": true
   },
   "outputs": [],
   "source": [
    "import wfdb\n",
    "import matplotlib.pyplot as plt\n",
    "import numpy as np\n",
    "# from hrv.filters import quotient, moving_median\n",
    "from scipy import interpolate\n",
    "from tqdm import tqdm\n",
    "import os\n",
    "FS = 100.0"
   ]
  },
  {
   "cell_type": "code",
   "execution_count": 7,
   "outputs": [],
   "source": [
    "def create_time_info(rri):\n",
    "    rri_time = np.cumsum(rri) / 1000.0  # make it seconds\n",
    "    return rri_time - rri_time[0]   # force it to start at zero\n",
    "\n",
    "def create_interp_time(rri, fs):\n",
    "    time_rri = create_time_info(rri)\n",
    "    return np.arange(0, time_rri[-1], 1 / float(fs))\n",
    "\n",
    "def interp_cubic_spline(rri, fs):\n",
    "    time_rri = create_time_info(rri)\n",
    "    time_rri_interp = create_interp_time(rri, fs)\n",
    "    tck = interpolate.splrep(time_rri, rri, s=0)\n",
    "    rri_interp = interpolate.splev(time_rri_interp, tck, der=0)\n",
    "    return time_rri_interp, rri_interp\n",
    "\n",
    "def interp_cubic_spline_qrs(qrs_index, qrs_amp, fs):\n",
    "    time_qrs = qrs_index / float(FS)\n",
    "    time_qrs = time_qrs - time_qrs[0]\n",
    "    time_qrs_interp = np.arange(0, time_qrs[-1], 1/float(fs))\n",
    "    tck = interpolate.splrep(time_qrs, qrs_amp, s=0)\n",
    "    qrs_interp = interpolate.splev(time_qrs_interp, tck, der=0)\n",
    "    return time_qrs_interp, qrs_interp\n",
    "\n",
    "\n"
   ],
   "metadata": {
    "collapsed": false,
    "pycharm": {
     "name": "#%%\n"
    }
   }
  },
  {
   "cell_type": "code",
   "execution_count": 15,
   "outputs": [],
   "source": [
    "data_path = '../res/origin/'\n",
    "train_data_name = ['a01', 'a02', 'a03', 'a04', 'a05',\n",
    "             'a06', 'a07', 'a08', 'a09', 'a10',\n",
    "             'a11', 'a12', 'a13', 'a14', 'a15',\n",
    "             'a16', 'a17', 'a18', 'a19',\n",
    "             'b01', 'b02', 'b03', 'b04',\n",
    "             'c01', 'c02', 'c03', 'c04', 'c05',\n",
    "             'c06', 'c07', 'c08', 'c09',\n",
    "             ]\n",
    "test_data_name = ['a20','b05','c10']\n",
    "age = [51, 38, 54, 52, 58,\n",
    "       63, 44, 51, 52, 58,\n",
    "       58, 52, 51, 51, 60,\n",
    "       44, 40, 52, 55, 58,\n",
    "       44, 53, 53, 42, 52,\n",
    "       31, 37, 39, 41, 28,\n",
    "       28, 30, 42, 37, 27]\n",
    "sex = [1, 1, 1, 1, 1,\n",
    "       1, 1, 1, 1, 1,\n",
    "       1, 1, 1, 1, 1,\n",
    "       1, 1, 1, 1, 1,\n",
    "       0, 1, 1, 1, 1,\n",
    "       1, 1, 1, 0, 0,\n",
    "       0, 0, 1, 1, 1]\n"
   ],
   "metadata": {
    "collapsed": false,
    "pycharm": {
     "name": "#%%\n"
    }
   }
  },
  {
   "cell_type": "code",
   "execution_count": 11,
   "outputs": [],
   "source": [
    "# Return the amplitude (max - min) of the RRi series: biên độ\n",
    "def get_qrs_amp(ecg, qrs):\n",
    "    interval = int(FS * 0.250)\n",
    "    qrs_amp = []\n",
    "    for index in range(len(qrs)):\n",
    "        curr_qrs = qrs[index]\n",
    "        amp = np.max(ecg[curr_qrs-interval:curr_qrs+interval])\n",
    "\n",
    "        qrs_amp.append(amp)\n",
    "\n",
    "    return qrs_amp\n",
    "\n"
   ],
   "metadata": {
    "collapsed": false,
    "pycharm": {
     "name": "#%%\n"
    }
   }
  },
  {
   "cell_type": "code",
   "execution_count": null,
   "outputs": [
    {
     "name": "stderr",
     "output_type": "stream",
     "text": [
      "100%|██████████| 488/488 [04:07<00:00,  1.97it/s]\n",
      "100%|██████████| 527/527 [05:02<00:00,  1.74it/s]\n",
      "100%|██████████| 518/518 [05:09<00:00,  1.67it/s]\n",
      "100%|██████████| 491/491 [04:10<00:00,  1.96it/s]\n",
      "100%|██████████| 453/453 [03:14<00:00,  2.33it/s]\n",
      "100%|██████████| 509/509 [04:34<00:00,  1.86it/s]\n",
      "100%|██████████| 510/510 [05:08<00:00,  1.65it/s]\n",
      "100%|██████████| 500/500 [05:08<00:00,  1.62it/s]\n",
      "100%|██████████| 494/494 [04:04<00:00,  2.02it/s]\n",
      "100%|██████████| 516/516 [04:30<00:00,  1.91it/s]\n",
      "100%|██████████| 465/465 [03:42<00:00,  2.09it/s]\n",
      "100%|██████████| 576/576 [15:00<00:00,  1.56s/it]\n",
      "100%|██████████| 494/494 [14:28<00:00,  1.76s/it]\n",
      "100%|██████████| 508/508 [08:46<00:00,  1.04s/it]\n",
      "100%|██████████| 509/509 [10:04<00:00,  1.19s/it]\n",
      "100%|██████████| 481/481 [10:17<00:00,  1.28s/it]\n",
      "100%|██████████| 484/484 [12:36<00:00,  1.56s/it]\n",
      "100%|██████████| 488/488 [13:30<00:00,  1.66s/it]\n",
      "100%|██████████| 501/501 [16:20<00:00,  1.96s/it]\n",
      "100%|██████████| 486/486 [14:02<00:00,  1.73s/it]\n",
      "100%|██████████| 516/516 [14:53<00:00,  1.73s/it]\n",
      "100%|██████████| 440/440 [09:11<00:00,  1.25s/it]\n",
      "100%|██████████| 428/428 [07:49<00:00,  1.10s/it]\n",
      " 78%|███████▊  | 378/483 [08:35<06:06,  3.49s/it]  "
     ]
    },
    {
     "name": "stdout",
     "output_type": "stream",
     "text": [
      "in for\n",
      "../res/origin/a01\n",
      "in for\n",
      "../res/origin/a02\n",
      "in for\n",
      "../res/origin/a03\n",
      "in for\n",
      "../res/origin/a04\n",
      "in for\n",
      "../res/origin/a05\n",
      "in for\n",
      "../res/origin/a06\n",
      "in for\n",
      "../res/origin/a07\n",
      "in for\n",
      "../res/origin/a08\n",
      "in for\n",
      "../res/origin/a09\n",
      "in for\n",
      "../res/origin/a10\n",
      "in for\n",
      "../res/origin/a11\n",
      "in for\n",
      "../res/origin/a12\n",
      "in for\n",
      "../res/origin/a13\n",
      "in for\n",
      "../res/origin/a14\n",
      "in for\n",
      "../res/origin/a15\n",
      "in for\n",
      "../res/origin/a16\n",
      "in for\n",
      "../res/origin/a17\n",
      "in for\n",
      "../res/origin/a18\n",
      "in for\n",
      "../res/origin/a19\n",
      "in for\n",
      "../res/origin/b01\n",
      "in for\n",
      "../res/origin/b02\n",
      "in for\n",
      "../res/origin/b03\n",
      "in for\n",
      "../res/origin/b04\n",
      "in for\n",
      "../res/origin/c01\n"
     ]
    }
   ],
   "source": [
    "MARGIN = 10\n",
    "FS_INTP = 4\n",
    "MAX_HR = 300.0\n",
    "MIN_HR = 20.0\n",
    "MIN_RRI = 1.0 / (MAX_HR / 60.0) * 1000\n",
    "MAX_RRI = 1.0 / (MIN_HR / 60.0) * 1000\n",
    "train_input_array = []\n",
    "train_label_array = []\n",
    "\n",
    "for data_index in range(len(train_data_name)):\n",
    "    print(\"in for\")\n",
    "    filePath = data_path + train_data_name[data_index]\n",
    "    print (filePath)\n",
    "    win_num = len(wfdb.rdann(os.path.join(data_path,train_data_name[data_index]), 'apn').symbol)\n",
    "    signals, fields = wfdb.rdsamp(os.path.join(data_path,train_data_name[data_index]))\n",
    "    for index in tqdm(range(1, win_num)):\n",
    "        samp_from = index * 60 * FS # 60 seconds\n",
    "        samp_to = samp_from + 60 * FS  # 60 seconds\n",
    "\n",
    "        # array dữ liệu sạch\n",
    "        # from -> to: 80 seconds\n",
    "        qrs_ann = wfdb.rdann(data_path + train_data_name[data_index], 'qrs', sampfrom=samp_from - (MARGIN*100), sampto=samp_to + (MARGIN*100)).sample\n",
    "        # lấy label của dữ liệu apnea\n",
    "        # from -> to: 6000đv - 1đv\n",
    "        apn_ann = wfdb.rdann(data_path + train_data_name[data_index], 'apn', sampfrom=samp_from, sampto=samp_to-1).symbol\n",
    "        # lấy tín hiệu ecg cao nhất\n",
    "        qrs_amp = get_qrs_amp(signals, qrs_ann)\n",
    "\n",
    "        # diff: out[i] = a[i+1] - a[i] -> Tinh khoang RR, rri la chuoi cac gia tri RR\n",
    "        rri = np.diff(qrs_ann)\n",
    "        rri_ms = rri.astype('float') / FS * 1000.0\n"
   ],
   "metadata": {
    "collapsed": false,
    "pycharm": {
     "name": "#%%\n",
     "is_executing": true
    }
   }
  }
 ],
 "metadata": {
  "kernelspec": {
   "display_name": "Python 3",
   "language": "python",
   "name": "python3"
  },
  "language_info": {
   "codemirror_mode": {
    "name": "ipython",
    "version": 2
   },
   "file_extension": ".py",
   "mimetype": "text/x-python",
   "name": "python",
   "nbconvert_exporter": "python",
   "pygments_lexer": "ipython2",
   "version": "2.7.6"
  }
 },
 "nbformat": 4,
 "nbformat_minor": 0
}